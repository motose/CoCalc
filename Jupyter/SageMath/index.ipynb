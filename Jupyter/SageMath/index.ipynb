{
 "cells": [
  {
   "cell_type": "markdown",
   "metadata": {},
   "source": [
    "# Sageチュートリアルへようこそ\n",
    "Sageは，代数学，幾何学，数論，暗号理論，数値解析，および関連諸分野の研究と教育を支援する，フリーなオープンソース数学ソフトウェアである． Sageの開発モデルとテクノロジーに共通する著しい特徴は，公開，共有，協調と協働の原則の徹底的な遵守である． 我々の目的は言わば実用車の制作であって，車輪を再発明することではない． 総合目標としているのは，Maple，Mathematica，Magma，MATLABに代りうるフリーかつオープンソース化された実用システムの開発である．\n",
    "\n",
    "Sageがどんなものか，短時間で知りたければ，まずこのチュートリアルを読んでみていただきたい． HTML版とPDF版のどちらを読んでもいいし，Sageノートブックを経由することもできる(チュートリアル内容を対話的に実行するには，ノートブックで Help ， 続けて Tutorial をクリックする)．\n",
    "\n",
    "この文章の著作権は [Creative Commons Attribution-Share Alike 3.0 License](http://creativecommons.org/licenses/by-sa/3.0/) に準ずる．\n",
    "\n",
    "* [はじめに](http://localhost:8888/notebooks/SageMath/introduction.ipynb)\n",
    "    * [インストール](http://localhost:8888/notebooks/SageMath/introduction.ipynb#installation)\n",
    "    * [Sageの使いかた](http://localhost:8888/notebooks/SageMath/introduction.ipynb#sage)\n",
    "    * [Sageの長期目標](http://localhost:8888/notebooks/SageMath/introduction.ipynb#id7)\n",
    "* [Sage観光ツアー]()\n",
    "    * [代入，等式と算術演算]()\n",
    "    * [ヘルプの利用]()\n",
    "    * [関数, インデントおよび数え上げ]()\n",
    "    * [代数と微積分の基本]()\n",
    "    * [プロットする]()\n",
    "    * [関数まわりの注意点]()\n",
    "    * [基本的な環]()\n",
    "    * [線形代数]()\n",
    "    * [多項式]()\n",
    "    * [ペアレント，型変換および型強制]()\n",
    "    * [有限群，アーベル群]()\n",
    "    * [数論]()\n",
    "    * [より進んだ数学]()\n",
    "* [対話型シェル]()\n",
    "    * [Sageセッション]()\n",
    "    * [入出力のログをとる]()\n",
    "    * [プロンプト記号はペースト時に無視される]()\n",
    "    * [計時コマンド]()\n",
    "    * [IPythonトリック]()\n",
    "    * [エラーと例外処理]()\n",
    "    * [コマンド入力の遡行検索とタブ補完]()\n",
    "    * [統合ヘルプシステム]()\n",
    "    * [オブジェクトの保存と読み込み]()\n",
    "    * [セッション全体の保存と読み込み]()\n",
    "    * [ノートブックインターフェイス]()\n",
    "* [インターフェイスについて]()\n",
    "    * [GP/PARI]()\n",
    "    * [GAP]()\n",
    "    * [Singular]()\n",
    "    * [Maxima]()\n",
    "* [Sage，LaTeXと仲間たち]()\n",
    "    * [概観]()\n",
    "    * [基本的な使い方]()\n",
    "    * [LaTeXコード生成のカスタマイズ]()\n",
    "    * [LaTeX処理のカスタマイズ]()\n",
    "    * [具体例： tkz-graphによる連結グラフの作成]()\n",
    "    * [TeXシステムの完全な運用]()\n",
    "    * [外部プログラム]()\n",
    "* [プログラミング]()\n",
    "    * [Sageファイルの読み込みと結合]()\n",
    "    * [実行形式の作成]()\n",
    "    * [スタンドアロンPython/Sageスクリプト]()\n",
    "    * [データ型]()\n",
    "    * [リスト，タプル，シーケンス]()\n",
    "    * [ディクショナリ]()\n",
    "    * [集合]()\n",
    "    * [イテレータ]()\n",
    "    * [ループ，関数，制御文，比較]()\n",
    "    * [プロファイリング]()\n",
    "* [SageTeXを使う]()\n",
    "    * [具体例]()\n",
    "    * [TeXにSageTeXの存在を教える]()\n",
    "* [あとがき]()\n",
    "    * [なぜPyhtonなのか]()\n",
    "    * [Sageプロジェクトを手助けするには？]()\n",
    "    * [Sageを引用するには]()\n",
    "* [付録]()\n",
    "    * [算術二項演算子の優先順位]()\n",
    "* [Bibliography]()\n",
    "\n",
    "## Indices and tables\n",
    "* [索引]()\n",
    "* [モジュール索引]()\n",
    "* [検索ページ]()\n",
    "\n"
   ]
  },
  {
   "cell_type": "code",
   "execution_count": null,
   "metadata": {},
   "outputs": [],
   "source": [
    "20 ** 4"
   ]
  },
  {
   "cell_type": "code",
   "execution_count": null,
   "metadata": {},
   "outputs": [],
   "source": [
    "1+2"
   ]
  },
  {
   "cell_type": "code",
   "execution_count": null,
   "metadata": {},
   "outputs": [],
   "source": []
  }
 ],
 "metadata": {
  "kernelspec": {
   "display_name": "SageMath 9.5",
   "language": "sage",
   "name": "sagemath"
  },
  "language_info": {
   "codemirror_mode": {
    "name": "ipython",
    "version": 3
   },
   "file_extension": ".py",
   "mimetype": "text/x-python",
   "name": "python",
   "nbconvert_exporter": "python",
   "pygments_lexer": "ipython3",
   "version": "3.11.1"
  },
  "latex_envs": {
   "LaTeX_envs_menu_present": true,
   "autoclose": false,
   "autocomplete": true,
   "bibliofile": "biblio.bib",
   "cite_by": "apalike",
   "current_citInitial": 1,
   "eqLabelWithNumbers": true,
   "eqNumInitial": 1,
   "hotkeys": {
    "equation": "Ctrl-E",
    "itemize": "Ctrl-I"
   },
   "labels_anchors": false,
   "latex_user_defs": false,
   "report_style_numbering": false,
   "user_envs_cfg": false
  }
 },
 "nbformat": 4,
 "nbformat_minor": 4
}
